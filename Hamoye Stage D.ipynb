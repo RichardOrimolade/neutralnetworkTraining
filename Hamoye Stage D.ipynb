{
 "cells": [
  {
   "cell_type": "markdown",
   "id": "578a2148",
   "metadata": {},
   "source": [
    "# Introduction to Keras and Tensorow with Python"
   ]
  },
  {
   "cell_type": "markdown",
   "id": "c7dd5aa7",
   "metadata": {},
   "source": [
    "Introduction to Keras and Tensorflow with Python"
   ]
  },
  {
   "cell_type": "code",
   "execution_count": 1,
   "id": "e92f5d38",
   "metadata": {},
   "outputs": [
    {
     "name": "stdout",
     "output_type": "stream",
     "text": [
      "Training data: (60000, 28, 28), (60000,)\n"
     ]
    }
   ],
   "source": [
    "import numpy as np\n",
    "import matplotlib.pyplot as plt\n",
    "import tensorflow as tf\n",
    "from tensorflow import keras\n",
    "mnist = keras.datasets.mnist\n",
    "(train_images, train_labels), (test_images, test_labels) = mnist.load_data()\n",
    "\n",
    "print(\"Training data: {}, {}\".format(train_images.shape, train_labels.shape))"
   ]
  },
  {
   "cell_type": "code",
   "execution_count": 2,
   "id": "575103d8",
   "metadata": {},
   "outputs": [
    {
     "name": "stdout",
     "output_type": "stream",
     "text": [
      "Test data: (10000, 28, 28), (10000,)\n"
     ]
    }
   ],
   "source": [
    "print(\"Test data: {}, {}\".format(test_images.shape, test_labels.shape))"
   ]
  },
  {
   "cell_type": "code",
   "execution_count": 3,
   "id": "b35ca29f",
   "metadata": {},
   "outputs": [
    {
     "name": "stdout",
     "output_type": "stream",
     "text": [
      "There are 10 classes in the dataset. They are: [0 1 2 3 4 5 6 7 8 9]\n"
     ]
    }
   ],
   "source": [
    "class_labels = np.unique(train_labels)\n",
    "print(\"There are {} classes in the dataset. They are: {}\".format(len(class_labels), class_labels))"
   ]
  },
  {
   "cell_type": "markdown",
   "id": "d075e9f8",
   "metadata": {},
   "source": [
    "Training data: (60000, 28, 28), (60000,)\n",
    "Test data: (10000, 28, 28), (10000,)\n",
    "There are 10 classes in the dataset. They are: [0 1 2 3 4 5 6 7 8 9]"
   ]
  },
  {
   "cell_type": "markdown",
   "id": "d2088e6a",
   "metadata": {},
   "source": [
    "# Visualize the images"
   ]
  },
  {
   "cell_type": "code",
   "execution_count": 4,
   "id": "071d3e5e",
   "metadata": {},
   "outputs": [
    {
     "data": {
      "image/png": "[encoded data removed]",
      "text/plain": [
       "<Figure size 576x360 with 3 Axes>"
      ]
     },
     "metadata": {
      "needs_background": "light"
     },
     "output_type": "display_data"
    }
   ],
   "source": [
    "plt.figure(figsize=(8, 5))\n",
    "\n",
    "plt.subplot(1,3,1)\n",
    "plt.imshow(train_images[0])\n",
    "plt.title(\"Label: {}\".format(train_labels[0]))\n",
    "\n",
    "plt.subplot(1,3,2)\n",
    "plt.imshow(train_images[2500])\n",
    "plt.title(\"Label: {}\".format(train_labels[2500]))\n",
    "\n",
    "plt.subplot(1,3,3)\n",
    "plt.imshow(test_images[12])\n",
    "\n",
    "plt.show()"
   ]
  },
  {
   "cell_type": "code",
   "execution_count": 5,
   "id": "f59480f1",
   "metadata": {},
   "outputs": [],
   "source": [
    "# Scale the Data\n",
    "# As usual, we scale our dataset to range between 0 and 1. In this dataset, the pixel values\n",
    "# Dividing the data by 255 scales to the required range\n",
    "\n",
    "train_images = train_images / 255.0\n",
    "test_images = test_images / 255.0"
   ]
  },
  {
   "cell_type": "markdown",
   "id": "75eba114",
   "metadata": {},
   "source": [
    "# Split training data to training and validation sets"
   ]
  },
  {
   "cell_type": "code",
   "execution_count": 6,
   "id": "51537244",
   "metadata": {},
   "outputs": [
    {
     "name": "stdout",
     "output_type": "stream",
     "text": [
      "x_train: (50000, 28, 28)\n",
      "x_val: (10000, 28, 28)\n",
      "y_train: (50000,)\n",
      "y_val: (10000,)\n"
     ]
    }
   ],
   "source": [
    "x_train = train_images[0:50000]\n",
    "x_val = train_images[50000:]\n",
    "y_train = train_labels[0:50000]\n",
    "y_val = train_labels[50000:]\n",
    "\n",
    "\n",
    "print(\"x_train: {}\".format(x_train.shape)) # prints x_train: (50000, 28, 28)\n",
    "print(\"x_val: {}\".format(x_val.shape)) # prints x_val: (10000, 28, 28)\n",
    "print(\"y_train: {}\".format(y_train.shape)) #prints y_train: (50000,)\n",
    "print(\"y_val: {}\".format(y_val.shape)) #prints y_val: (10000,)"
   ]
  },
  {
   "cell_type": "markdown",
   "id": "49ebdbd1",
   "metadata": {},
   "source": [
    "# Reshape data from 28 * 28 array to a single array"
   ]
  },
  {
   "cell_type": "code",
   "execution_count": 7,
   "id": "cd3e552c",
   "metadata": {},
   "outputs": [
    {
     "name": "stdout",
     "output_type": "stream",
     "text": [
      "x_train: (50000, 784)\n",
      "x_val: (10000, 784)\n",
      "test_images: (10000, 784)\n"
     ]
    }
   ],
   "source": [
    "new_dimension = np.prod(train_images.shape[1:])\n",
    "x_train = x_train.reshape(x_train.shape[0], new_dimension)\n",
    "x_val = x_val.reshape(x_val.shape[0], new_dimension)\n",
    "test_images = test_images.reshape(test_images.shape[0], new_dimension)\n",
    " \n",
    "print(\"x_train: {}\".format(x_train.shape))         #prints x_train: (50000, 784)\n",
    "print(\"x_val: {}\".format(x_val.shape))             #prints x_val: (10000, 784)\n",
    "print(\"test_images: {}\".format(test_images.shape)) #prints test_images: (10000, 784)"
   ]
  },
  {
   "cell_type": "markdown",
   "id": "99db6171",
   "metadata": {},
   "source": [
    "# Encode labels to categorical variables"
   ]
  },
  {
   "cell_type": "code",
   "execution_count": 8,
   "id": "1a877295",
   "metadata": {},
   "outputs": [],
   "source": [
    "from tensorflow.keras.utils import to_categorical\n",
    "no_labels = 10\n",
    "y_train = to_categorical(y_train, no_labels)\n",
    "y_val = to_categorical(y_val, no_labels)\n",
    "y_test = to_categorical(test_labels, no_labels)"
   ]
  },
  {
   "cell_type": "markdown",
   "id": "04a16566",
   "metadata": {},
   "source": [
    "# Activation functions and Neural Networks hyperparameters"
   ]
  },
  {
   "cell_type": "code",
   "execution_count": 9,
   "id": "9243c184",
   "metadata": {},
   "outputs": [
    {
     "name": "stdout",
     "output_type": "stream",
     "text": [
      "WARNING:tensorflow:From C:\\Users\\USER\\anaconda3\\lib\\site-packages\\tensorflow\\python\\compat\\v2_compat.py:107: disable_resource_variables (from tensorflow.python.ops.variable_scope) is deprecated and will be removed in a future version.\n",
      "Instructions for updating:\n",
      "non-resource variables are not supported in the long term\n",
      "WARNING:tensorflow:From C:\\Users\\USER\\anaconda3\\lib\\site-packages\\tensorflow\\python\\util\\dispatch.py:1082: softmax_cross_entropy_with_logits (from tensorflow.python.ops.nn_ops) is deprecated and will be removed in a future version.\n",
      "Instructions for updating:\n",
      "\n",
      "Future major versions of TensorFlow will allow gradients to flow\n",
      "into the labels input on backprop by default.\n",
      "\n",
      "See `tf.nn.softmax_cross_entropy_with_logits_v2`.\n",
      "\n"
     ]
    }
   ],
   "source": [
    "import tensorflow.compat.v1 as tf\n",
    "tf.disable_v2_behavior()\n",
    "# use the v1 syntax like this:\n",
    "\n",
    "X = tf.compat.v1.placeholder(dtype=\"float\",shape=[None, new_dimension])\n",
    "Y = tf.compat.v1.placeholder(dtype=\"float\",shape=[None, no_labels]) \n",
    "\n",
    "\n",
    "# create model architecture\n",
    "def multilayer_perceptron(x, no_classes, first_layer_neurons=256, second_layer_neurons=128):\n",
    "  # first layer\n",
    "  first_weight = tf.Variable(tf.random_uniform([new_dimension, first_layer_neurons]))\n",
    "  first_bias = tf.Variable(tf.zeros([first_layer_neurons]))\n",
    "  first_layer_output = tf.nn.relu(tf.add(tf.matmul(x, first_weight), first_bias))\n",
    "\n",
    "  # second layer\n",
    "  second_weight = tf.Variable(tf.random_uniform([first_layer_neurons,second_layer_neurons]))\n",
    "  second_bias = tf.Variable(tf.zeros([second_layer_neurons]))\n",
    "  second_layer_output = tf.nn.relu(tf.add(tf.matmul(first_layer_output, second_weight),\n",
    "                                second_bias))\n",
    "\n",
    "  # output layer\n",
    "  final_weight = tf.Variable(tf.random_uniform([second_layer_neurons, no_classes]))\n",
    "  final_bias = tf.Variable(tf.zeros([no_classes]))\n",
    "  logits = tf.add(tf.matmul(second_layer_output, final_weight), final_bias)\n",
    "\n",
    "  return logits\n",
    "\n",
    "# Call the multilayer perception function\n",
    "logits = multilayer_perceptron(X, no_labels)\n",
    "learning_rate = 0.01\n",
    "# we define the loss and optimiser for the network\n",
    "loss_op = tf.reduce_mean(tf.nn.softmax_cross_entropy_with_logits(logits=logits, labels=Y))\n",
    "optimiser = tf.train.AdamOptimizer(learning_rate=learning_rate)\n",
    "train_op = optimiser.minimize(loss_op)\n",
    "\n",
    "\n"
   ]
  },
  {
   "cell_type": "code",
   "execution_count": 10,
   "id": "7de0c9de",
   "metadata": {},
   "outputs": [
    {
     "name": "stdout",
     "output_type": "stream",
     "text": [
      "Epoch========0\n",
      "Epoch========1\n",
      "Epoch========2\n",
      "Epoch========3\n",
      "Epoch========4\n",
      "Epoch========5\n",
      "Epoch========6\n",
      "Epoch========7\n",
      "Epoch========8\n",
      "Epoch========9\n",
      "Epoch========10\n",
      "Epoch========11\n",
      "Epoch========12\n",
      "Epoch========13\n",
      "Epoch========14\n",
      "Epoch========15\n",
      "Epoch========16\n",
      "Epoch========17\n",
      "Epoch========18\n",
      "Epoch========19\n",
      "Accuracy: 0.9014000296592712\n"
     ]
    }
   ],
   "source": [
    "#initialise the variables\n",
    "init = tf.global_variables_initializer()\n",
    "epochs = 20\n",
    "batch_size = 1000\n",
    "iteration = len(x_train) // batch_size\n",
    "\n",
    "#train model\n",
    "with tf.Session() as session:\n",
    "    session.run(init)\n",
    "    for epoch in range(epochs):\n",
    "            average_cost = 0\n",
    "            start, end = 0, batch_size\n",
    "            \n",
    "            for i in range(iteration):\n",
    "                batch_x, batch_y = x_train[start: end], y_train[start: end]\n",
    "                _, loss = session.run([train_op, loss_op], feed_dict={X: batch_x, Y: batch_y})\n",
    "                start += batch_size\n",
    "                end += batch_size\n",
    "                #average loss\n",
    "                average_cost += loss/iteration\n",
    "            print(\"Epoch========{}\".format(epoch))\n",
    "            \n",
    "    #evaluate model\n",
    "    prediction = tf.nn.softmax(logits)\n",
    "    ground_truth = tf.equal(tf.argmax(prediction, 1), tf.argmax(Y, 1))\n",
    "    accuracy = tf.reduce_mean(tf.cast(ground_truth, \"float\"))\n",
    "    print(\"Accuracy: {}\".format(accuracy.eval({X: test_images, Y: y_test})))\n"
   ]
  },
  {
   "cell_type": "markdown",
   "id": "f9b549bb",
   "metadata": {},
   "source": [
    "# Optimisation for training deep neural networks"
   ]
  },
  {
   "cell_type": "code",
   "execution_count": 11,
   "id": "c3e097a4",
   "metadata": {},
   "outputs": [
    {
     "name": "stdout",
     "output_type": "stream",
     "text": [
      "Train on 50000 samples, validate on 10000 samples\n",
      "Epoch 1/20\n",
      "49986/50000 [============================>.] - ETA: 0s - loss: 0.2552 - acc: 0.9285"
     ]
    },
    {
     "name": "stderr",
     "output_type": "stream",
     "text": [
      "C:\\Users\\USER\\anaconda3\\lib\\site-packages\\keras\\engine\\training_v1.py:2045: UserWarning: `Model.state_updates` will be removed in a future version. This property should not be used in TensorFlow 2.0, as `updates` are applied automatically.\n",
      "  updates = self.state_updates\n"
     ]
    },
    {
     "name": "stdout",
     "output_type": "stream",
     "text": [
      "50000/50000 [==============================] - 137s 3ms/sample - loss: 0.2553 - acc: 0.9284 - val_loss: 0.1436 - val_acc: 0.9604\n",
      "Epoch 2/20\n",
      "50000/50000 [==============================] - 139s 3ms/sample - loss: 0.1709 - acc: 0.9573 - val_loss: 0.1791 - val_acc: 0.9584\n",
      "Epoch 3/20\n",
      "50000/50000 [==============================] - 141s 3ms/sample - loss: 0.1604 - acc: 0.9646 - val_loss: 0.1417 - val_acc: 0.9686\n",
      "Epoch 4/20\n",
      "50000/50000 [==============================] - 141s 3ms/sample - loss: 0.1467 - acc: 0.9689 - val_loss: 0.2399 - val_acc: 0.9682\n",
      "Epoch 5/20\n",
      "50000/50000 [==============================] - 142s 3ms/sample - loss: 0.1370 - acc: 0.9699 - val_loss: 0.1698 - val_acc: 0.9651\n",
      "Epoch 6/20\n",
      "50000/50000 [==============================] - 146s 3ms/sample - loss: 0.1275 - acc: 0.9747 - val_loss: 0.2306 - val_acc: 0.9645\n",
      "Epoch 7/20\n",
      "50000/50000 [==============================] - 152s 3ms/sample - loss: 0.1188 - acc: 0.9751 - val_loss: 0.2058 - val_acc: 0.9668\n",
      "Epoch 8/20\n",
      "50000/50000 [==============================] - 145s 3ms/sample - loss: 0.1182 - acc: 0.9772 - val_loss: 0.2412 - val_acc: 0.9674\n",
      "Epoch 9/20\n",
      "50000/50000 [==============================] - 147s 3ms/sample - loss: 0.1161 - acc: 0.9774 - val_loss: 0.2608 - val_acc: 0.9725\n",
      "Epoch 10/20\n",
      "50000/50000 [==============================] - 145s 3ms/sample - loss: 0.1169 - acc: 0.9780 - val_loss: 0.2559 - val_acc: 0.9673\n",
      "Epoch 11/20\n",
      "50000/50000 [==============================] - 158s 3ms/sample - loss: 0.1046 - acc: 0.9797 - val_loss: 0.2990 - val_acc: 0.9666\n",
      "Epoch 12/20\n",
      "50000/50000 [==============================] - 145s 3ms/sample - loss: 0.1123 - acc: 0.9803 - val_loss: 0.3001 - val_acc: 0.9746\n",
      "Epoch 13/20\n",
      "50000/50000 [==============================] - 160s 3ms/sample - loss: 0.0954 - acc: 0.9830 - val_loss: 0.4033 - val_acc: 0.9663\n",
      "Epoch 14/20\n",
      "50000/50000 [==============================] - 153s 3ms/sample - loss: 0.1061 - acc: 0.9821 - val_loss: 0.3893 - val_acc: 0.9661\n",
      "Epoch 15/20\n",
      "50000/50000 [==============================] - 163s 3ms/sample - loss: 0.1056 - acc: 0.9826 - val_loss: 0.4472 - val_acc: 0.9668\n",
      "Epoch 16/20\n",
      "50000/50000 [==============================] - 156s 3ms/sample - loss: 0.1029 - acc: 0.9831 - val_loss: 0.4887 - val_acc: 0.9647\n",
      "Epoch 17/20\n",
      "50000/50000 [==============================] - 146s 3ms/sample - loss: 0.1093 - acc: 0.9830 - val_loss: 0.4757 - val_acc: 0.9647\n",
      "Epoch 18/20\n",
      "50000/50000 [==============================] - 154s 3ms/sample - loss: 0.1046 - acc: 0.9840 - val_loss: 0.4597 - val_acc: 0.9692\n",
      "Epoch 19/20\n",
      "50000/50000 [==============================] - 153s 3ms/sample - loss: 0.1023 - acc: 0.9834 - val_loss: 0.4428 - val_acc: 0.9710\n",
      "Epoch 20/20\n",
      "50000/50000 [==============================] - 156s 3ms/sample - loss: 0.0990 - acc: 0.9853 - val_loss: 0.6919 - val_acc: 0.9709\n"
     ]
    }
   ],
   "source": [
    "# #Building a Sequential Feed Forward Network in Keras\n",
    "\n",
    "from tensorflow.keras.layers import Dense\n",
    "from tensorflow.keras.models import Sequential\n",
    "\n",
    "model = Sequential()\n",
    "model.add(Dense(256, activation='relu', input_shape=(new_dimension,)))\n",
    "model.add(Dense(128, activation='relu'))\n",
    "model.add(Dense(no_labels, activation='softmax'))\n",
    "\n",
    "model.compile(optimizer='adam', loss=tf.keras.losses.categorical_crossentropy, \n",
    " metrics=['accuracy'])\n",
    "history = model.fit(x_train, y_train, validation_data=(x_val, y_val), epochs=20, batch_size=1)\n",
    "test_loss, test_accuracy = model.evaluate(test_images, y_test)"
   ]
  },
  {
   "cell_type": "code",
   "execution_count": 12,
   "id": "8cded7bd",
   "metadata": {},
   "outputs": [
    {
     "name": "stdout",
     "output_type": "stream",
     "text": [
      "Test loss: 0.6440293251958689\n",
      "Test accuracy: 0.9711999893188477\n"
     ]
    }
   ],
   "source": [
    "print('Test loss: {}'.format(test_loss))\n",
    "print('Test accuracy: {}'.format(test_accuracy))"
   ]
  },
  {
   "cell_type": "markdown",
   "id": "5b930a55",
   "metadata": {},
   "source": [
    "# Check for overfitting"
   ]
  },
  {
   "cell_type": "markdown",
   "id": "be4fbe6a",
   "metadata": {},
   "source": [
    "Visualise Result"
   ]
  },
  {
   "cell_type": "code",
   "execution_count": 13,
   "id": "d3da0086",
   "metadata": {},
   "outputs": [
    {
     "data": {
      "text/plain": [
       "Text(0.5, 1.0, 'Loss Curves - before regularisation')"
      ]
     },
     "execution_count": 13,
     "metadata": {},
     "output_type": "execute_result"
    },
    {
     "data": {
      "image/png": "[encoded data removed]",
      "text/plain": [
       "<Figure size 432x288 with 1 Axes>"
      ]
     },
     "metadata": {
      "needs_background": "light"
     },
     "output_type": "display_data"
    }
   ],
   "source": [
    "plt.figure()\n",
    "plt.plot(history.history['loss'], 'blue')\n",
    "plt.plot(history.history['val_loss'], 'red')\n",
    "plt.legend(['Training loss', 'Validation Loss'])\n",
    "plt.xlabel('Epochs')\n",
    "plt.ylabel('Loss')\n",
    "plt.title('Loss Curves - before regularisation')"
   ]
  },
  {
   "cell_type": "markdown",
   "id": "cb1e960e",
   "metadata": {},
   "source": [
    "Try Again"
   ]
  },
  {
   "cell_type": "code",
   "execution_count": 20,
   "id": "154d5b95",
   "metadata": {},
   "outputs": [
    {
     "name": "stdout",
     "output_type": "stream",
     "text": [
      "Train on 50000 samples, validate on 10000 samples\n",
      "Epoch 1/20\n",
      "50000/50000 [==============================] - 5s 99us/sample - loss: 1.0053 - acc: 0.6789 - val_loss: 0.3032 - val_acc: 0.9149\n",
      "Epoch 2/20\n",
      "50000/50000 [==============================] - 4s 77us/sample - loss: 0.3868 - acc: 0.8860 - val_loss: 0.2074 - val_acc: 0.9412\n",
      "Epoch 3/20\n",
      "50000/50000 [==============================] - 4s 76us/sample - loss: 0.2874 - acc: 0.9169 - val_loss: 0.1656 - val_acc: 0.9523\n",
      "Epoch 4/20\n",
      "50000/50000 [==============================] - 3s 69us/sample - loss: 0.2337 - acc: 0.9325 - val_loss: 0.1395 - val_acc: 0.9604\n",
      "Epoch 5/20\n",
      "50000/50000 [==============================] - 4s 79us/sample - loss: 0.2008 - acc: 0.9418 - val_loss: 0.1238 - val_acc: 0.9634\n",
      "Epoch 6/20\n",
      "50000/50000 [==============================] - 3s 69us/sample - loss: 0.1760 - acc: 0.9478 - val_loss: 0.1164 - val_acc: 0.9658\n",
      "Epoch 7/20\n",
      "50000/50000 [==============================] - 3s 64us/sample - loss: 0.1553 - acc: 0.9541 - val_loss: 0.1039 - val_acc: 0.9695\n",
      "Epoch 8/20\n",
      "50000/50000 [==============================] - 3s 69us/sample - loss: 0.1443 - acc: 0.9581 - val_loss: 0.1002 - val_acc: 0.9705\n",
      "Epoch 9/20\n",
      "50000/50000 [==============================] - 4s 79us/sample - loss: 0.1282 - acc: 0.9613 - val_loss: 0.0921 - val_acc: 0.9731\n",
      "Epoch 10/20\n",
      "50000/50000 [==============================] - 4s 74us/sample - loss: 0.1206 - acc: 0.9633 - val_loss: 0.0863 - val_acc: 0.9744\n",
      "Epoch 11/20\n",
      "50000/50000 [==============================] - 3s 66us/sample - loss: 0.1092 - acc: 0.9674 - val_loss: 0.0830 - val_acc: 0.9755\n",
      "Epoch 12/20\n",
      "50000/50000 [==============================] - 4s 77us/sample - loss: 0.1006 - acc: 0.9691 - val_loss: 0.0828 - val_acc: 0.9764\n",
      "Epoch 13/20\n",
      "50000/50000 [==============================] - 4s 73us/sample - loss: 0.0961 - acc: 0.9717 - val_loss: 0.0783 - val_acc: 0.9770\n",
      "Epoch 14/20\n",
      "50000/50000 [==============================] - 3s 67us/sample - loss: 0.0941 - acc: 0.9717 - val_loss: 0.0766 - val_acc: 0.9765\n",
      "Epoch 15/20\n",
      "50000/50000 [==============================] - 3s 66us/sample - loss: 0.0850 - acc: 0.9738 - val_loss: 0.0776 - val_acc: 0.9772\n",
      "Epoch 16/20\n",
      "50000/50000 [==============================] - 3s 63us/sample - loss: 0.0781 - acc: 0.9766 - val_loss: 0.0736 - val_acc: 0.9777\n",
      "Epoch 17/20\n",
      "50000/50000 [==============================] - 3s 64us/sample - loss: 0.0780 - acc: 0.9758 - val_loss: 0.0753 - val_acc: 0.9776\n",
      "Epoch 18/20\n",
      "50000/50000 [==============================] - 3s 66us/sample - loss: 0.0717 - acc: 0.9783 - val_loss: 0.0734 - val_acc: 0.9783\n",
      "Epoch 19/20\n",
      "50000/50000 [==============================] - 3s 66us/sample - loss: 0.0702 - acc: 0.9776 - val_loss: 0.0735 - val_acc: 0.9789\n",
      "Epoch 20/20\n",
      "50000/50000 [==============================] - 3s 63us/sample - loss: 0.0667 - acc: 0.9794 - val_loss: 0.0707 - val_acc: 0.9789\n"
     ]
    }
   ],
   "source": [
    "#Although the validation and training loss seem great, we can see that the validation #loss increases\n",
    "#This identifies overfitting in our network. How do we proceed? #Introduce regularisation to the model\n",
    "\n",
    "from tensorflow.keras.layers import Dropout\n",
    "reg_model = Sequential()\n",
    "reg_model.add(Dense(256, activation='relu', input_shape=(new_dimension,)))\n",
    "reg_model.add(Dropout(0.4))\n",
    "reg_model.add(Dense(128, activation='relu'))\n",
    "reg_model.add(Dropout(0.4))\n",
    "reg_model.add(Dense(no_labels, activation='softmax'))\n",
    "\n",
    "reg_model.compile(optimizer='adam', loss=tf.keras.losses.categorical_crossentropy, \n",
    " metrics=['accuracy'])\n",
    "\n",
    "reg_history = reg_model.fit(x_train, y_train, validation_data=(x_val, y_val), \n",
    " epochs=20, batch_size=1000)\n",
    "test_loss, test_accuracy = reg_model.evaluate(test_images, y_test)"
   ]
  },
  {
   "cell_type": "code",
   "execution_count": 21,
   "id": "12288e96",
   "metadata": {},
   "outputs": [
    {
     "name": "stdout",
     "output_type": "stream",
     "text": [
      "Test loss: 0.07004400733717485\n",
      "Test accuracy: 0.9807999730110168\n"
     ]
    }
   ],
   "source": [
    "print('Test loss: {}'.format(test_loss))\n",
    "print('Test accuracy: {}'.format(test_accuracy))"
   ]
  },
  {
   "cell_type": "code",
   "execution_count": 23,
   "id": "92c4ae7d",
   "metadata": {},
   "outputs": [
    {
     "data": {
      "text/plain": [
       "Text(0.5, 1.0, 'Loss Curves - after regularisation')"
      ]
     },
     "execution_count": 23,
     "metadata": {},
     "output_type": "execute_result"
    },
    {
     "data": {
      "image/png": "[encoded data removed]",
      "text/plain": [
       "<Figure size 432x288 with 1 Axes>"
      ]
     },
     "metadata": {
      "needs_background": "light"
     },
     "output_type": "display_data"
    }
   ],
   "source": [
    "plt.figure()\n",
    "plt.plot(reg_history.history['loss'], 'blue')\n",
    "plt.plot(reg_history.history['val_loss'], 'red')\n",
    "plt.legend(['Training loss', 'Validation Loss'])\n",
    "plt.xlabel('Epochs')\n",
    "plt.ylabel('Loss')\n",
    "plt.title('Loss Curves - after regularisation')"
   ]
  },
  {
   "cell_type": "code",
   "execution_count": null,
   "id": "d7688dd5",
   "metadata": {},
   "outputs": [],
   "source": []
  }
 ],
 "metadata": {
  "kernelspec": {
   "display_name": "Python 3 (ipykernel)",
   "language": "python",
   "name": "python3"
  },
  "language_info": {
   "codemirror_mode": {
    "name": "ipython",
    "version": 3
   },
   "file_extension": ".py",
   "mimetype": "text/x-python",
   "name": "python",
   "nbconvert_exporter": "python",
   "pygments_lexer": "ipython3",
   "version": "3.9.7"
  }
 },
 "nbformat": 4,
 "nbformat_minor": 5
}
